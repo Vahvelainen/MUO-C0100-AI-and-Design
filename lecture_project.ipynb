{
 "cells": [
  {
   "cell_type": "code",
   "execution_count": 8,
   "metadata": {},
   "outputs": [],
   "source": [
    "# Dependencies\n",
    "import numpy as np\n",
    "import pandas as pd\n",
    "import sklearn.datasets\n",
    "import matplotlib as mpl\n",
    "\n",
    "# pyplot\n",
    "import matplotlib.pyplot as plt"
   ]
  },
  {
   "cell_type": "code",
   "execution_count": 9,
   "metadata": {},
   "outputs": [
    {
     "name": "stderr",
     "output_type": "stream",
     "text": [
      "/Users/leevi/anaconda3/lib/python3.11/site-packages/sklearn/datasets/_openml.py:968: FutureWarning: The default value of `parser` will change from `'liac-arff'` to `'auto'` in 1.4. You can set `parser='auto'` to silence this warning. Therefore, an `ImportError` will be raised from 1.4 if the dataset is dense and pandas is not installed. Note that the pandas parser may return different data types. See the Notes Section in fetch_openml's API doc for details.\n",
      "  warn(\n"
     ]
    }
   ],
   "source": [
    "# Load dataset\n",
    "dataset = sklearn.datasets.fetch_openml(\"mnist_784\", version = 1, as_frame = False)"
   ]
  },
  {
   "cell_type": "code",
   "execution_count": 10,
   "metadata": {},
   "outputs": [
    {
     "name": "stdout",
     "output_type": "stream",
     "text": [
      "dict_keys(['data', 'target', 'frame', 'categories', 'feature_names', 'target_names', 'DESCR', 'details', 'url'])\n"
     ]
    }
   ],
   "source": [
    "# Let's investigate what kinds of contents the dataset has:\n",
    "print(dataset.keys())\n",
    "\n",
    "# In the dataset's contents, the \"data\" element contains 70,000 images of hand-written digits (0..9).\n",
    "# The \"target\" element is an array (=list) of 70,000 labels that tell which digit each image is\n",
    "\n",
    "# Following a common convention, let's call the images in the \"data\" elements as X,\n",
    "# and the labels in the \"target\" elements as y:\n",
    "X = dataset[\"data\"]\n",
    "y = dataset[\"target\"]\n",
    "\n",
    "# Change the targets' data type from text to numbers, because most machine learning\n",
    "# algorithms have been programmed to operate on numbers:\n",
    "y = y.astype(np.uint8)"
   ]
  },
  {
   "cell_type": "code",
   "execution_count": 27,
   "metadata": {},
   "outputs": [
    {
     "data": {
      "image/png": "[encoded data removed]",
      "text/plain": [
       "<Figure size 640x480 with 1 Axes>"
      ]
     },
     "metadata": {},
     "output_type": "display_data"
    },
    {
     "name": "stdout",
     "output_type": "stream",
     "text": [
      "This image has been labelled as 5\n"
     ]
    }
   ],
   "source": [
    "# We can have a look what these images look like:\n",
    "\n",
    "index = 420          # Any value between 0 and 69999 can be used here (there are 70,000 images)\n",
    "image = X[index]\n",
    "label = y[index]\n",
    "\n",
    "# Rearrange the image's 784 pixels into a 28x28 grid:\n",
    "image_reshaped = image.reshape(28,28)\n",
    "\n",
    "# Now display the image and its correct label:\n",
    "plt.imshow(image_reshaped, cmap=\"binary\")        # Define that the image uses a binary color map\n",
    "plt.axis(\"off\")                                  # Define that we do not need x and y axes this time\n",
    "plt.show()                                       # Now show the image\n",
    "print(\"This image has been labelled as \" + str(label))  # Also print what this digit's label is in the dataset"
   ]
  },
  {
   "cell_type": "code",
   "execution_count": 23,
   "metadata": {},
   "outputs": [],
   "source": [
    "# Now let's start training!\n",
    "\n",
    "# We'll start by training a classifier without cross-validation\n",
    "\n",
    "# Split the dataset to fixed training and test sets:\n",
    "# Train set is the one that we'll use to train our digit classifier\n",
    "# Test set is the one that we'll use to find out how well our classifier works.\n",
    "\n",
    "# We'll use the first 60000 images for training, and everything after them for testing:\n",
    "X_train, X_test, y_train, y_test = X[:60000], X[60000:], y[:60000], y[60000:]"
   ]
  },
  {
   "cell_type": "code",
   "execution_count": 24,
   "metadata": {},
   "outputs": [],
   "source": [
    "# We'll train a \"stochastic gradient descent\" (SGD) classifier with the train set:\n",
    "# More about stochastic gradient descent:\n",
    "# Video: https://www.youtube.com/watch?v=i62czvwDlsw\n",
    "# Text: https://towardsdatascience.com/stochastic-gradient-descent-clearly-explained-53d239905d31\n",
    "\n",
    "# Import the library of the classifier:\n",
    "from sklearn.linear_model import SGDClassifier\n",
    "\n",
    "# Create one empty classifier (that will be trained later):\n",
    "classifier = SGDClassifier(random_state = 42)"
   ]
  },
  {
   "cell_type": "code",
   "execution_count": 25,
   "metadata": {},
   "outputs": [
    {
     "data": {
      "text/html": [
       "<style>#sk-container-id-2 {color: black;background-color: white;}#sk-container-id-2 pre{padding: 0;}#sk-container-id-2 div.sk-toggleable {background-color: white;}#sk-container-id-2 label.sk-toggleable__label {cursor: pointer;display: block;width: 100%;margin-bottom: 0;padding: 0.3em;box-sizing: border-box;text-align: center;}#sk-container-id-2 label.sk-toggleable__label-arrow:before {content: \"▸\";float: left;margin-right: 0.25em;color: #696969;}#sk-container-id-2 label.sk-toggleable__label-arrow:hover:before {color: black;}#sk-container-id-2 div.sk-estimator:hover label.sk-toggleable__label-arrow:before {color: black;}#sk-container-id-2 div.sk-toggleable__content {max-height: 0;max-width: 0;overflow: hidden;text-align: left;background-color: #f0f8ff;}#sk-container-id-2 div.sk-toggleable__content pre {margin: 0.2em;color: black;border-radius: 0.25em;background-color: #f0f8ff;}#sk-container-id-2 input.sk-toggleable__control:checked~div.sk-toggleable__content {max-height: 200px;max-width: 100%;overflow: auto;}#sk-container-id-2 input.sk-toggleable__control:checked~label.sk-toggleable__label-arrow:before {content: \"▾\";}#sk-container-id-2 div.sk-estimator input.sk-toggleable__control:checked~label.sk-toggleable__label {background-color: #d4ebff;}#sk-container-id-2 div.sk-label input.sk-toggleable__control:checked~label.sk-toggleable__label {background-color: #d4ebff;}#sk-container-id-2 input.sk-hidden--visually {border: 0;clip: rect(1px 1px 1px 1px);clip: rect(1px, 1px, 1px, 1px);height: 1px;margin: -1px;overflow: hidden;padding: 0;position: absolute;width: 1px;}#sk-container-id-2 div.sk-estimator {font-family: monospace;background-color: #f0f8ff;border: 1px dotted black;border-radius: 0.25em;box-sizing: border-box;margin-bottom: 0.5em;}#sk-container-id-2 div.sk-estimator:hover {background-color: #d4ebff;}#sk-container-id-2 div.sk-parallel-item::after {content: \"\";width: 100%;border-bottom: 1px solid gray;flex-grow: 1;}#sk-container-id-2 div.sk-label:hover label.sk-toggleable__label {background-color: #d4ebff;}#sk-container-id-2 div.sk-serial::before {content: \"\";position: absolute;border-left: 1px solid gray;box-sizing: border-box;top: 0;bottom: 0;left: 50%;z-index: 0;}#sk-container-id-2 div.sk-serial {display: flex;flex-direction: column;align-items: center;background-color: white;padding-right: 0.2em;padding-left: 0.2em;position: relative;}#sk-container-id-2 div.sk-item {position: relative;z-index: 1;}#sk-container-id-2 div.sk-parallel {display: flex;align-items: stretch;justify-content: center;background-color: white;position: relative;}#sk-container-id-2 div.sk-item::before, #sk-container-id-2 div.sk-parallel-item::before {content: \"\";position: absolute;border-left: 1px solid gray;box-sizing: border-box;top: 0;bottom: 0;left: 50%;z-index: -1;}#sk-container-id-2 div.sk-parallel-item {display: flex;flex-direction: column;z-index: 1;position: relative;background-color: white;}#sk-container-id-2 div.sk-parallel-item:first-child::after {align-self: flex-end;width: 50%;}#sk-container-id-2 div.sk-parallel-item:last-child::after {align-self: flex-start;width: 50%;}#sk-container-id-2 div.sk-parallel-item:only-child::after {width: 0;}#sk-container-id-2 div.sk-dashed-wrapped {border: 1px dashed gray;margin: 0 0.4em 0.5em 0.4em;box-sizing: border-box;padding-bottom: 0.4em;background-color: white;}#sk-container-id-2 div.sk-label label {font-family: monospace;font-weight: bold;display: inline-block;line-height: 1.2em;}#sk-container-id-2 div.sk-label-container {text-align: center;}#sk-container-id-2 div.sk-container {/* jupyter's `normalize.less` sets `[hidden] { display: none; }` but bootstrap.min.css set `[hidden] { display: none !important; }` so we also need the `!important` here to be able to override the default hidden behavior on the sphinx rendered scikit-learn.org. See: https://github.com/scikit-learn/scikit-learn/issues/21755 */display: inline-block !important;position: relative;}#sk-container-id-2 div.sk-text-repr-fallback {display: none;}</style><div id=\"sk-container-id-2\" class=\"sk-top-container\"><div class=\"sk-text-repr-fallback\"><pre>SGDClassifier(random_state=42)</pre><b>In a Jupyter environment, please rerun this cell to show the HTML representation or trust the notebook. <br />On GitHub, the HTML representation is unable to render, please try loading this page with nbviewer.org.</b></div><div class=\"sk-container\" hidden><div class=\"sk-item\"><div class=\"sk-estimator sk-toggleable\"><input class=\"sk-toggleable__control sk-hidden--visually\" id=\"sk-estimator-id-2\" type=\"checkbox\" checked><label for=\"sk-estimator-id-2\" class=\"sk-toggleable__label sk-toggleable__label-arrow\">SGDClassifier</label><div class=\"sk-toggleable__content\"><pre>SGDClassifier(random_state=42)</pre></div></div></div></div></div>"
      ],
      "text/plain": [
       "SGDClassifier(random_state=42)"
      ]
     },
     "execution_count": 25,
     "metadata": {},
     "output_type": "execute_result"
    }
   ],
   "source": [
    "# Training:\n",
    "\n",
    "classifier.fit(X_train, y_train)                # Train the classifier with our training data (images and their correct labels)\n",
    "\n",
    "# NOTE: Training takes time! The 3rd command may take 1-2 minutes to run."
   ]
  },
  {
   "cell_type": "code",
   "execution_count": 29,
   "metadata": {},
   "outputs": [
    {
     "data": {
      "text/plain": [
       "array([9], dtype=uint8)"
      ]
     },
     "execution_count": 29,
     "metadata": {},
     "output_type": "execute_result"
    }
   ],
   "source": [
    "# Let's test how the classifier classifies (\"predicts\") the label of the image that we looked at above:\n",
    "\n",
    "classifier.predict([image])\n",
    "\n",
    "# When you run this code cell, the output of this command will look something like this:\n",
    "#    array([4], dtype=uint8)\n",
    "# The classifier's prediction is within the [] marks. In the line above, the prediction is that the image has digit 4.\n"
   ]
  },
  {
   "cell_type": "code",
   "execution_count": 30,
   "metadata": {},
   "outputs": [
    {
     "data": {
      "text/plain": [
       "array([0.8795    , 0.88853333])"
      ]
     },
     "execution_count": 30,
     "metadata": {},
     "output_type": "execute_result"
    }
   ],
   "source": [
    "# Let's measure how well the classifier performs overall, using the entire test set\n",
    "\n",
    "# 2-fold cross-validation:\n",
    "# The right way to measure performance is to test the performance multiple times, with different splits\n",
    "# into smaller train and tests. Then we'll get several performance values, and we can use their\n",
    "# average as the \"final\" performance. These splits are called \"folds\", and the process of repeated testing\n",
    "# is called \"cross-validation\"\n",
    "\n",
    "# Let's measure SGD's performance using 2 repeated trainings and tests. This is called\n",
    "# \"3-fold cross-validation\". Scikit-learn has readymade function for it, callewd cross_val_score(),\n",
    "# which we now will import into our project:\n",
    "\n",
    "from sklearn.model_selection import cross_val_score\n",
    "\n",
    "# Let's use this function. Here are the arguments that we will giving to it:\n",
    "#   our classifier that we created above (classifier)\n",
    "#   our training data's images (X_train)\n",
    "#   our training data's correct labels (y_train)\n",
    "#   number of folds that we want to use (3)\n",
    "#   the performance metric that we want to use (\"accuracy\")\n",
    "cross_val_score(classifier, X_train, y_train, cv=2, scoring=\"accuracy\")\n",
    "\n",
    "# NOTE: The command takes long to run, because it trains the classifier 3 times.\n",
    "\n",
    "\n"
   ]
  },
  {
   "cell_type": "code",
   "execution_count": 31,
   "metadata": {},
   "outputs": [],
   "source": [
    "# Confusion matrix: Analysing where the errors happen\n",
    "\n",
    "# If we had a perfect classifier, the output would be [1.000, 1.000, 1.000].\n",
    "# Of course we want to know where the errors are: what values does our classifier misclassify?\n",
    "# We can do that with by pringint  \"confusion matrix\"\n",
    "\n",
    "# Let's train our classifier again, this time getting out more data about its behaviour:\n",
    "# after every fold of training, get labels that the classifiers give to every image that they analyse:\n",
    "\n",
    "from sklearn.model_selection import cross_val_predict\n",
    "y_predictions = cross_val_predict(classifier, X_train, y_train, cv=2)"
   ]
  },
  {
   "cell_type": "code",
   "execution_count": 34,
   "metadata": {},
   "outputs": [
    {
     "data": {
      "text/plain": [
       "array([[5644,    0,   42,   17,   19,   26,   39,   11,   95,   30],\n",
       "       [   2, 6432,   47,   41,    7,   46,   13,   22,  111,   21],\n",
       "       [  51,   59, 5009,  164,   85,   34,  133,  106,  275,   42],\n",
       "       [  37,   14,  207, 5336,   15,  156,   28,  116,  142,   80],\n",
       "       [  15,   19,   45,   19, 5330,   18,   40,   27,   85,  244],\n",
       "       [  70,   19,   45,  347,   77, 4329,  146,   40,  264,   84],\n",
       "       [  39,   11,   38,   15,   49,   99, 5608,    3,   53,    3],\n",
       "       [  25,   11,   50,   33,   90,   12,    5, 5815,   36,  188],\n",
       "       [  40,   84,  192,  194,   47,  299,   73,   57, 4743,  122],\n",
       "       [  26,   18,   40,  144,  220,   56,    0,  564,   86, 4795]])"
      ]
     },
     "execution_count": 34,
     "metadata": {},
     "output_type": "execute_result"
    }
   ],
   "source": [
    "from sklearn.metrics import confusion_matrix\n",
    "conf_matrix = confusion_matrix(y_train,y_predictions)\n",
    "\n",
    "# The confusion matrix tells how many images are misclassified:\n",
    "# Every row represents actual labels, and every column represents predicted labels.\n",
    "# Let's have a look:\n",
    "conf_matrix"
   ]
  },
  {
   "cell_type": "code",
   "execution_count": 35,
   "metadata": {},
   "outputs": [
    {
     "data": {
      "text/plain": [
       "<matplotlib.image.AxesImage at 0x143256790>"
      ]
     },
     "execution_count": 35,
     "metadata": {},
     "output_type": "execute_result"
    },
    {
     "data": {
      "image/png": "[encoded data removed]",
      "text/plain": [
       "<Figure size 480x480 with 1 Axes>"
      ]
     },
     "metadata": {},
     "output_type": "display_data"
    }
   ],
   "source": [
    "# Most of the numbers are in the diagonal. This means, for example, for an image whose true label is 3,\n",
    "# the classifier's predicted label is also 3. Off-diagonal values tell where the predictions have gone wrong.\n",
    "\n",
    "# Confusion matrix is easier to look at as an image:\n",
    "mpl.pyplot.matshow(conf_matrix, cmap=mpl.cm.gray)"
   ]
  },
  {
   "cell_type": "code",
   "execution_count": 36,
   "metadata": {},
   "outputs": [
    {
     "data": {
      "image/png": "[encoded data removed]",
      "text/plain": [
       "<Figure size 480x480 with 1 Axes>"
      ]
     },
     "metadata": {},
     "output_type": "display_data"
    }
   ],
   "source": [
    "# The confusion matrix is not yet helping us to see where the errors happen.\n",
    "# With the following modifications, we can make this information more visible:\n",
    "\n",
    "row_sums = conf_matrix.sum(axis=1, keepdims=True)\n",
    "norm_conf_matrix = conf_matrix / row_sums\n",
    "\n",
    "np.fill_diagonal(norm_conf_matrix, 0)\n",
    "mpl.pyplot.matshow(norm_conf_matrix, cmap=mpl.cm.gray)\n",
    "mpl.pyplot.show()"
   ]
  },
  {
   "cell_type": "code",
   "execution_count": null,
   "metadata": {},
   "outputs": [],
   "source": [
    "# If you see vertical light stripes, that means that many images get classified into that label.\n",
    "# If you see horizontal stripes, that means that images of that label are hard to classify correctly.\n",
    "\n",
    "# To improve our classifier's performance, we could next do some of the following tasks:\n",
    "#\n",
    "#    Use a different classifier than stochastic gradient descent (such as \"k nearest neighbours\")\n",
    "#    Fine-tune parameters that govern our classifier's behaviour (\"hyperparameter optimisation\")\n",
    "#    Do preprocessing, for example by harmonizing the pixels' brightness levels across images (\"scaling\")\n"
   ]
  },
  {
   "cell_type": "code",
   "execution_count": 37,
   "metadata": {},
   "outputs": [
    {
     "data": {
      "text/plain": [
       "0.874"
      ]
     },
     "execution_count": 37,
     "metadata": {},
     "output_type": "execute_result"
    }
   ],
   "source": [
    "# Final evaluation using the dataset's test split\n",
    "\n",
    "# After all the further improvement (which this demo did not do, but which would tasks like ones above)\n",
    "# you can finally use the test set for performance measurement.\n",
    "\n",
    "# Let's pretend that our above-used \"classifier\" would also be our final, optimised classifier.\n",
    "\n",
    "final_test_predictions = classifier.predict(X_test)\n",
    "\n",
    "# Find out what the accuracy is on the test set:\n",
    "from sklearn.metrics import accuracy_score\n",
    "accuracy_score(y_test,final_test_predictions)\n"
   ]
  }
 ],
 "metadata": {
  "kernelspec": {
   "display_name": "base",
   "language": "python",
   "name": "python3"
  },
  "language_info": {
   "codemirror_mode": {
    "name": "ipython",
    "version": 3
   },
   "file_extension": ".py",
   "mimetype": "text/x-python",
   "name": "python",
   "nbconvert_exporter": "python",
   "pygments_lexer": "ipython3",
   "version": "3.11.5"
  }
 },
 "nbformat": 4,
 "nbformat_minor": 2
}
