{
 "cells": [
  {
   "cell_type": "code",
   "execution_count": 1,
   "metadata": {},
   "outputs": [],
   "source": [
    "# Dependencies\n",
    "import numpy as np\n",
    "import pandas as pd\n",
    "import sklearn.datasets\n",
    "import matplotlib as mpl\n",
    "\n",
    "# pyplot\n",
    "import matplotlib.pyplot as plt"
   ]
  },
  {
   "cell_type": "code",
   "execution_count": 2,
   "metadata": {},
   "outputs": [
    {
     "name": "stderr",
     "output_type": "stream",
     "text": [
      "c:\\ProgramData\\anaconda3\\Lib\\site-packages\\sklearn\\datasets\\_openml.py:1002: FutureWarning: The default value of `parser` will change from `'liac-arff'` to `'auto'` in 1.4. You can set `parser='auto'` to silence this warning. Therefore, an `ImportError` will be raised from 1.4 if the dataset is dense and pandas is not installed. Note that the pandas parser may return different data types. See the Notes Section in fetch_openml's API doc for details.\n",
      "  warn(\n"
     ]
    },
    {
     "data": {
      "text/plain": [
       "dict_keys(['data', 'target', 'frame', 'categories', 'feature_names', 'target_names', 'DESCR', 'details', 'url'])"
      ]
     },
     "execution_count": 2,
     "metadata": {},
     "output_type": "execute_result"
    }
   ],
   "source": [
    "# Load dataset\n",
    "dataset = sklearn.datasets.fetch_openml(\"mnist_784\", version = 1, as_frame = False)\n",
    "\n",
    "# Investigate what kinds of contents the dataset has:\n",
    "dataset.keys()"
   ]
  },
  {
   "cell_type": "code",
   "execution_count": 3,
   "metadata": {},
   "outputs": [],
   "source": [
    "# In the dataset's contents, the \"data\" element contains 70,000 images of hand-written digits (0..9).\n",
    "# The \"target\" element is an array (=list) of 70,000 labels that tell which digit each image is\n",
    "\n",
    "# Following a common convention, let's call the images in the \"data\" elements as X,\n",
    "# and the labels in the \"target\" elements as y:\n",
    "X = dataset[\"data\"]\n",
    "y = dataset[\"target\"]\n",
    "\n",
    "# Change the targets' data type from text to numbers, because most machine learning\n",
    "# algorithms have been programmed to operate on numbers:\n",
    "y = y.astype(np.uint8)"
   ]
  },
  {
   "cell_type": "code",
   "execution_count": 4,
   "metadata": {},
   "outputs": [],
   "source": [
    "#Split the dataset \n",
    "\n",
    "# We'll use the first 60000 images for training, and everything after them for testing:\n",
    "X_train, X_test, y_train, y_test = X[:60000], X[60000:], y[:60000], y[60000:]"
   ]
  },
  {
   "cell_type": "code",
   "execution_count": 5,
   "metadata": {},
   "outputs": [
    {
     "data": {
      "text/html": [
       "<style>#sk-container-id-1 {color: black;}#sk-container-id-1 pre{padding: 0;}#sk-container-id-1 div.sk-toggleable {background-color: white;}#sk-container-id-1 label.sk-toggleable__label {cursor: pointer;display: block;width: 100%;margin-bottom: 0;padding: 0.3em;box-sizing: border-box;text-align: center;}#sk-container-id-1 label.sk-toggleable__label-arrow:before {content: \"▸\";float: left;margin-right: 0.25em;color: #696969;}#sk-container-id-1 label.sk-toggleable__label-arrow:hover:before {color: black;}#sk-container-id-1 div.sk-estimator:hover label.sk-toggleable__label-arrow:before {color: black;}#sk-container-id-1 div.sk-toggleable__content {max-height: 0;max-width: 0;overflow: hidden;text-align: left;background-color: #f0f8ff;}#sk-container-id-1 div.sk-toggleable__content pre {margin: 0.2em;color: black;border-radius: 0.25em;background-color: #f0f8ff;}#sk-container-id-1 input.sk-toggleable__control:checked~div.sk-toggleable__content {max-height: 200px;max-width: 100%;overflow: auto;}#sk-container-id-1 input.sk-toggleable__control:checked~label.sk-toggleable__label-arrow:before {content: \"▾\";}#sk-container-id-1 div.sk-estimator input.sk-toggleable__control:checked~label.sk-toggleable__label {background-color: #d4ebff;}#sk-container-id-1 div.sk-label input.sk-toggleable__control:checked~label.sk-toggleable__label {background-color: #d4ebff;}#sk-container-id-1 input.sk-hidden--visually {border: 0;clip: rect(1px 1px 1px 1px);clip: rect(1px, 1px, 1px, 1px);height: 1px;margin: -1px;overflow: hidden;padding: 0;position: absolute;width: 1px;}#sk-container-id-1 div.sk-estimator {font-family: monospace;background-color: #f0f8ff;border: 1px dotted black;border-radius: 0.25em;box-sizing: border-box;margin-bottom: 0.5em;}#sk-container-id-1 div.sk-estimator:hover {background-color: #d4ebff;}#sk-container-id-1 div.sk-parallel-item::after {content: \"\";width: 100%;border-bottom: 1px solid gray;flex-grow: 1;}#sk-container-id-1 div.sk-label:hover label.sk-toggleable__label {background-color: #d4ebff;}#sk-container-id-1 div.sk-serial::before {content: \"\";position: absolute;border-left: 1px solid gray;box-sizing: border-box;top: 0;bottom: 0;left: 50%;z-index: 0;}#sk-container-id-1 div.sk-serial {display: flex;flex-direction: column;align-items: center;background-color: white;padding-right: 0.2em;padding-left: 0.2em;position: relative;}#sk-container-id-1 div.sk-item {position: relative;z-index: 1;}#sk-container-id-1 div.sk-parallel {display: flex;align-items: stretch;justify-content: center;background-color: white;position: relative;}#sk-container-id-1 div.sk-item::before, #sk-container-id-1 div.sk-parallel-item::before {content: \"\";position: absolute;border-left: 1px solid gray;box-sizing: border-box;top: 0;bottom: 0;left: 50%;z-index: -1;}#sk-container-id-1 div.sk-parallel-item {display: flex;flex-direction: column;z-index: 1;position: relative;background-color: white;}#sk-container-id-1 div.sk-parallel-item:first-child::after {align-self: flex-end;width: 50%;}#sk-container-id-1 div.sk-parallel-item:last-child::after {align-self: flex-start;width: 50%;}#sk-container-id-1 div.sk-parallel-item:only-child::after {width: 0;}#sk-container-id-1 div.sk-dashed-wrapped {border: 1px dashed gray;margin: 0 0.4em 0.5em 0.4em;box-sizing: border-box;padding-bottom: 0.4em;background-color: white;}#sk-container-id-1 div.sk-label label {font-family: monospace;font-weight: bold;display: inline-block;line-height: 1.2em;}#sk-container-id-1 div.sk-label-container {text-align: center;}#sk-container-id-1 div.sk-container {/* jupyter's `normalize.less` sets `[hidden] { display: none; }` but bootstrap.min.css set `[hidden] { display: none !important; }` so we also need the `!important` here to be able to override the default hidden behavior on the sphinx rendered scikit-learn.org. See: https://github.com/scikit-learn/scikit-learn/issues/21755 */display: inline-block !important;position: relative;}#sk-container-id-1 div.sk-text-repr-fallback {display: none;}</style><div id=\"sk-container-id-1\" class=\"sk-top-container\"><div class=\"sk-text-repr-fallback\"><pre>SVC()</pre><b>In a Jupyter environment, please rerun this cell to show the HTML representation or trust the notebook. <br />On GitHub, the HTML representation is unable to render, please try loading this page with nbviewer.org.</b></div><div class=\"sk-container\" hidden><div class=\"sk-item\"><div class=\"sk-estimator sk-toggleable\"><input class=\"sk-toggleable__control sk-hidden--visually\" id=\"sk-estimator-id-1\" type=\"checkbox\" checked><label for=\"sk-estimator-id-1\" class=\"sk-toggleable__label sk-toggleable__label-arrow\">SVC</label><div class=\"sk-toggleable__content\"><pre>SVC()</pre></div></div></div></div></div>"
      ],
      "text/plain": [
       "SVC()"
      ]
     },
     "execution_count": 5,
     "metadata": {},
     "output_type": "execute_result"
    }
   ],
   "source": [
    "\n",
    "# Support vector machine classifier:\n",
    "from sklearn.svm import SVC\n",
    "classifier = SVC()\n",
    "\n",
    "# Training:\n",
    "classifier.fit(X_train, y_train)                # Train the classifier with our training data (images and their correct labels)\n",
    "\n",
    "# 3-4 minutes to run."
   ]
  },
  {
   "cell_type": "code",
   "execution_count": 6,
   "metadata": {},
   "outputs": [
    {
     "data": {
      "image/png": "[encoded data removed]",
      "text/plain": [
       "<Figure size 640x480 with 1 Axes>"
      ]
     },
     "metadata": {},
     "output_type": "display_data"
    },
    {
     "name": "stdout",
     "output_type": "stream",
     "text": [
      "This image has been labelled as 9\n",
      "The model predicted this image as 9\n"
     ]
    }
   ],
   "source": [
    "\n",
    "# Choose an image to try the clasifier on\n",
    "index = 687          # Any value between 0 and 69999 can be used here (there are 70,000 images)\n",
    "\n",
    "image = X[index]\n",
    "label = y[index]\n",
    "\n",
    "# Rearrange the image's 784 pixels into a 28x28 grid:\n",
    "image_reshaped = image.reshape(28,28)\n",
    "\n",
    "# Now display the image and its correct label:\n",
    "plt.imshow(image_reshaped, cmap=\"binary\")        # Define that the image uses a binary color map\n",
    "plt.axis(\"off\")                                  # Define that we do not need x and y axes this time\n",
    "plt.show()                                       # Now show the image\n",
    "print(\"This image has been labelled as \" + str(label))  # Also print what this digit's label is in the dataset\n",
    "\n",
    "# Test how the classifier classifies (\"predicts\") the label of the image that we looked at above:\n",
    "prediction = classifier.predict([image])[0]\n",
    "print(\"The model predicted this image as \" + str(prediction))\n"
   ]
  },
  {
   "cell_type": "code",
   "execution_count": 7,
   "metadata": {},
   "outputs": [
    {
     "data": {
      "text/plain": [
       "array([0.97941667, 0.97633333, 0.97616667, 0.97416667, 0.97858333])"
      ]
     },
     "execution_count": 7,
     "metadata": {},
     "output_type": "execute_result"
    }
   ],
   "source": [
    "# Measure how well the classifier performs overall, using the entire train set\n",
    "# 5-fold cross-validation:\n",
    "\n",
    "from sklearn.model_selection import cross_val_score\n",
    "cross_val_score(classifier, X_train, y_train, cv=5, scoring=\"accuracy\")\n",
    "\n",
    "# ~15 mins for 5-fold"
   ]
  },
  {
   "cell_type": "code",
   "execution_count": 8,
   "metadata": {},
   "outputs": [],
   "source": [
    "# Confusion matrix: Analysing where the errors happen\n",
    "\n",
    "# If we had a perfect classifier, the output would be [1.000, 1.000, 1.000].\n",
    "# Of course we want to know where the errors are: what values does our classifier misclassify?\n",
    "# We can do that with by pringint  \"confusion matrix\"\n",
    "\n",
    "# Let's train our classifier again, this time getting out more data about its behaviour:\n",
    "# after every fold of training, get labels that the classifiers give to every image that they analyse:\n",
    "\n",
    "from sklearn.model_selection import cross_val_predict\n",
    "y_predictions = cross_val_predict(classifier, X_train, y_train, cv=2)"
   ]
  },
  {
   "cell_type": "code",
   "execution_count": 9,
   "metadata": {},
   "outputs": [
    {
     "data": {
      "text/plain": [
       "array([[5853,    3,   11,    2,    5,   11,   16,    2,   15,    5],\n",
       "       [   1, 6663,   24,   14,    8,    0,    2,    9,   12,    9],\n",
       "       [  18,   14, 5790,   19,   26,    9,   12,   35,   28,    7],\n",
       "       [   4,   14,   56, 5870,    1,   70,    2,   35,   58,   21],\n",
       "       [   8,   12,   11,    1, 5693,    0,   21,   10,   11,   75],\n",
       "       [  15,    8,   12,   55,   15, 5247,   35,    3,   20,   11],\n",
       "       [  22,    8,    5,    0,   11,   32, 5828,    0,   12,    0],\n",
       "       [   5,   27,   38,    4,   36,    1,    2, 6091,    6,   55],\n",
       "       [  10,   33,   21,   43,   20,   38,   21,    9, 5630,   26],\n",
       "       [  17,    9,    5,   42,   79,   19,    1,   63,   24, 5690]],\n",
       "      dtype=int64)"
      ]
     },
     "execution_count": 9,
     "metadata": {},
     "output_type": "execute_result"
    }
   ],
   "source": [
    "from sklearn.metrics import confusion_matrix\n",
    "conf_matrix = confusion_matrix(y_train,y_predictions)\n",
    "\n",
    "# The confusion matrix tells how many images are misclassified:\n",
    "# Every row represents actual labels, and every column represents predicted labels.\n",
    "# Let's have a look:\n",
    "conf_matrix"
   ]
  },
  {
   "cell_type": "code",
   "execution_count": 10,
   "metadata": {},
   "outputs": [
    {
     "data": {
      "text/plain": [
       "<matplotlib.image.AxesImage at 0x1aa009b9dd0>"
      ]
     },
     "execution_count": 10,
     "metadata": {},
     "output_type": "execute_result"
    },
    {
     "data": {
      "image/png": "[encoded data removed]",
      "text/plain": [
       "<Figure size 480x480 with 1 Axes>"
      ]
     },
     "metadata": {},
     "output_type": "display_data"
    }
   ],
   "source": [
    "# Most of the numbers are in the diagonal. This means, for example, for an image whose true label is 3,\n",
    "# the classifier's predicted label is also 3. Off-diagonal values tell where the predictions have gone wrong.\n",
    "\n",
    "# Confusion matrix is easier to look at as an image:\n",
    "mpl.pyplot.matshow(conf_matrix, cmap=mpl.cm.gray)"
   ]
  },
  {
   "cell_type": "markdown",
   "metadata": {},
   "source": [
    "The confusion matrix doesnt show any major misclaisifications"
   ]
  },
  {
   "cell_type": "code",
   "execution_count": 11,
   "metadata": {},
   "outputs": [
    {
     "data": {
      "image/png": "[encoded data removed]",
      "text/plain": [
       "<Figure size 480x480 with 1 Axes>"
      ]
     },
     "metadata": {},
     "output_type": "display_data"
    }
   ],
   "source": [
    "# The confusion matrix is not yet helping us to see where the errors happen.\n",
    "# With the following modifications, we can make this information more visible:\n",
    "\n",
    "row_sums = conf_matrix.sum(axis=1, keepdims=True)\n",
    "norm_conf_matrix = conf_matrix / row_sums\n",
    "\n",
    "np.fill_diagonal(norm_conf_matrix, 0)\n",
    "mpl.pyplot.matshow(norm_conf_matrix, cmap=mpl.cm.gray)\n",
    "mpl.pyplot.show()"
   ]
  },
  {
   "cell_type": "markdown",
   "metadata": {},
   "source": [
    "The biggest confusions seem to be happening with the digits 4 and 9"
   ]
  },
  {
   "cell_type": "code",
   "execution_count": 13,
   "metadata": {},
   "outputs": [
    {
     "data": {
      "text/plain": [
       "0.9792"
      ]
     },
     "execution_count": 13,
     "metadata": {},
     "output_type": "execute_result"
    }
   ],
   "source": [
    "# Final evaluation using the dataset's test split\n",
    "\n",
    "final_test_predictions = classifier.predict(X_test)\n",
    "\n",
    "# Find out what the accuracy is on the test set:\n",
    "from sklearn.metrics import accuracy_score\n",
    "accuracy_score(y_test,final_test_predictions)\n"
   ]
  },
  {
   "cell_type": "markdown",
   "metadata": {},
   "source": [
    "Accuracy of 98% is relatively well suited for the task of digit clasification"
   ]
  }
 ],
 "metadata": {
  "kernelspec": {
   "display_name": "base",
   "language": "python",
   "name": "python3"
  },
  "language_info": {
   "codemirror_mode": {
    "name": "ipython",
    "version": 3
   },
   "file_extension": ".py",
   "mimetype": "text/x-python",
   "name": "python",
   "nbconvert_exporter": "python",
   "pygments_lexer": "ipython3",
   "version": "3.11.5"
  }
 },
 "nbformat": 4,
 "nbformat_minor": 2
}
